{
 "worksheets": [
  {
   "cells": [
    {
     "cell_type": "code",
     "metadata": {},
     "outputs": [
      {
       "ename": "ImportError",
       "evalue": "No module named 'ApplianceDataset'",
       "output_type": "pyerr",
       "traceback": [
        "\u001b[0;31m---------------------------------------------------------------------------\u001b[0m\n\u001b[0;31mImportError\u001b[0m                               Traceback (most recent call last)",
        "\u001b[0;32m<ipython-input-1-2af39d621db7>\u001b[0m in \u001b[0;36m<module>\u001b[0;34m()\u001b[0m\n\u001b[0;32m----> 1\u001b[0;31m \u001b[0;32mimport\u001b[0m \u001b[0mApplianceDataset\u001b[0m\u001b[0;34m\u001b[0m\u001b[0m\n\u001b[0m",
        "\u001b[0;31mImportError\u001b[0m: No module named 'ApplianceDataset'"
       ]
      }
     ],
     "input": [
      "import ApplianceDataset"
     ],
     "language": "python",
     "prompt_number": 1
    },
    {
     "cell_type": "code",
     "metadata": {},
     "outputs": [],
     "input": [
      "from appliance_dataset import *"
     ],
     "language": "python",
     "prompt_number": 1
    },
    {
     "cell_type": "code",
     "metadata": {},
     "outputs": [],
     "input": [
      "appliance = ApplianceDataset()"
     ],
     "language": "python",
     "prompt_number": 2
    },
    {
     "cell_type": "code",
     "metadata": {},
     "outputs": [
      {
       "output_type": "stream",
       "stream": "stdout",
       "text": [
        "importing took 2.89s\n",
        "Plotting took 0.96s"
       ]
      },
      {
       "output_type": "stream",
       "stream": "stdout",
       "text": [
        "\n"
       ]
      }
     ],
     "input": [
      "appliance.from_REDD(\"/Users/johannesholzl/Documents/work_uni/low_freq/house_1/channel_8.dat\")\n",
      "appliance.plot()\n",
      "matplotlib.pyplot.show()"
     ],
     "language": "python",
     "prompt_number": 69
    },
    {
     "cell_type": "code",
     "metadata": {},
     "outputs": [],
     "input": [
      "applian"
     ],
     "language": "python",
     "prompt_number": 32
    },
    {
     "cell_type": "code",
     "metadata": {},
     "outputs": [],
     "input": [
      "import json"
     ],
     "language": "python",
     "prompt_number": 1
    },
    {
     "cell_type": "code",
     "metadata": {},
     "outputs": [],
     "input": [
      "config = json.load(open(\"dataset_infos/REDD_infos.json\", \"r\"))"
     ],
     "language": "python",
     "prompt_number": 2
    },
    {
     "cell_type": "code",
     "metadata": {},
     "outputs": [
      {
       "output_type": "stream",
       "stream": "stdout",
       "text": [
        "{'house_2': {'channel_10': 'large', 'channel_7': 'small', 'channel_5': 'small', 'channel_6': 'medium', 'channel_11': 'medium', 'channel_9': 'large', 'channel_4': 'small', 'channel_3': 'medium', 'channel_8': 'medium'}, 'house_3': {'channel_13': 'large', 'channel_14': 'large', 'channel_16': 'medium', 'channel_21': 'small', 'channel_15': 'small', 'channel_4': 'small', 'channel_20': 'large', 'channel_11': 'medium', 'channel_12': 'medium', 'channel_10': 'small', 'channel_7': 'medium', 'channel_5': 'large', 'channel_17': 'small', 'channel_6': 'large', 'channel_22': 'large', 'channel_9': 'medium', 'channel_19': 'small', 'channel_18': 'medium', 'channel_3': 'large', 'channel_8': 'medium'}, 'house_4': {'channel_13': 'small', 'channel_14': 'medium', 'channel_16': 'small', 'channel_15': 'large', 'channel_4': 'large', 'channel_20': 'small', 'channel_11': 'medium', 'channel_12': 'small', 'channel_10': 'small', 'channel_7': 'medium', 'channel_5': 'medium', 'channel_17': 'medium', 'channel_6': 'small', 'channel_9': 'small', 'channel_19': 'small', 'channel_18': 'small', 'channel_3': 'small', 'channel_8': 'large'}, 'house_1': {'channel_13': 'small', 'channel_14': 'medium', 'channel_16': 'large', 'channel_15': 'medium', 'channel_4': 'large', 'channel_20': 'large', 'channel_11': 'medium', 'channel_12': 'large', 'channel_10': 'medium', 'channel_7': 'small', 'channel_5': 'large', 'channel_17': 'small', 'channel_6': 'large', 'channel_9': 'small', 'channel_19': 'small', 'channel_18': 'small', 'channel_3': 'medium', 'channel_8': 'small'}, 'house_5': {'channel_3': 'small', 'channel_16': 'large', 'channel_4': 'small', 'channel_25': 'small', 'channel_23': 'medium', 'channel_5': 'small', 'channel_26': '', 'channel_18': 'medium', 'channel_15': 'small', 'channel_13': 'large', 'channel_14': 'small', 'channel_21': 'small', 'channel_20': 'large', 'channel_11': 'medium', 'channel_24': 'large', 'channel_12': 'large', 'channel_10': 'large', 'channel_7': 'small', 'channel_17': 'small', 'channel_6': 'medium', 'channel_22': 'small', 'channel_9': 'small', 'channel_19': 'small', 'channel_8': 'small'}, 'house_6': {'channel_13': 'small', 'channel_14': 'medium', 'channel_16': 'large', 'channel_15': 'medium', 'channel_4': 'medium', 'channel_11': 'small', 'channel_12': 'medium', 'channel_10': 'small', 'channel_7': 'medium', 'channel_5': 'large', 'channel_17': 'large', 'channel_6': 'medium', 'channel_9': 'small', 'channel_3': 'large', 'channel_8': 'small'}}\n"
       ]
      }
     ],
     "input": [
      "print(config)"
     ],
     "language": "python",
     "prompt_number": 3
    },
    {
     "cell_type": "code",
     "metadata": {},
     "outputs": [
      {
       "output_type": "stream",
       "stream": "stdout",
       "text": [
        "house_2\n",
        "channel_10   large\n",
        "channel_7   small\n",
        "channel_5   small\n",
        "channel_6   medium\n",
        "channel_11   medium\n",
        "channel_9   large\n",
        "channel_4   small\n",
        "channel_3   medium\n",
        "channel_8   medium\n",
        "house_3\n",
        "channel_13   large\n",
        "channel_14   large\n",
        "channel_16   medium\n",
        "channel_21   small\n",
        "channel_15   small\n",
        "channel_4   small\n",
        "channel_20   large\n",
        "channel_11   medium\n",
        "channel_12   medium\n",
        "channel_10   small\n",
        "channel_7   medium\n",
        "channel_5   large\n",
        "channel_17   small\n",
        "channel_6   large\n",
        "channel_22   large\n",
        "channel_9   medium\n",
        "channel_19   small\n",
        "channel_18   medium\n",
        "channel_3   large\n",
        "channel_8   medium\n",
        "house_4\n",
        "channel_13   small\n",
        "channel_14   medium\n",
        "channel_16   small\n",
        "channel_15   large\n",
        "channel_4   large\n",
        "channel_20   small\n",
        "channel_11   medium\n",
        "channel_12   small\n",
        "channel_10   small\n",
        "channel_7   medium\n",
        "channel_5   medium\n",
        "channel_17   medium\n",
        "channel_6   small\n",
        "channel_9   small\n",
        "channel_19   small\n",
        "channel_18   small\n",
        "channel_3   small\n",
        "channel_8   large\n",
        "house_1\n",
        "channel_13   small\n",
        "channel_14   medium\n",
        "channel_16   large\n",
        "channel_15   medium\n",
        "channel_4   large\n",
        "channel_20   large\n",
        "channel_11   medium\n",
        "channel_12   large\n",
        "channel_10   medium\n",
        "channel_7   small\n",
        "channel_5   large\n",
        "channel_17   small\n",
        "channel_6   large\n",
        "channel_9   small\n",
        "channel_19   small\n",
        "channel_18   small\n",
        "channel_3   medium\n",
        "channel_8   small\n",
        "house_5\n",
        "channel_3   small\n",
        "channel_16   large\n",
        "channel_4   small\n",
        "channel_25   small\n",
        "channel_23   medium\n",
        "channel_5   small\n",
        "channel_26   \n",
        "channel_18   medium\n",
        "channel_15   small\n",
        "channel_13   large\n",
        "channel_14   small\n",
        "channel_21   small\n",
        "channel_20   large\n",
        "channel_11   medium\n",
        "channel_24   large\n",
        "channel_12   large\n",
        "channel_10   large\n",
        "channel_7   small\n",
        "channel_17   small\n",
        "channel_6   medium\n",
        "channel_22   small\n",
        "channel_9   small\n",
        "channel_19   small\n",
        "channel_8   small\n",
        "house_6\n",
        "channel_13   small\n",
        "channel_14   medium\n",
        "channel_16   large\n",
        "channel_15   medium\n",
        "channel_4   medium\n",
        "channel_11   small\n",
        "channel_12   medium\n",
        "channel_10   small\n",
        "channel_7   medium\n",
        "channel_5   large\n",
        "channel_17   large\n",
        "channel_6   medium\n",
        "channel_9   small\n",
        "channel_3   large\n",
        "channel_8   small\n"
       ]
      }
     ],
     "input": [
      "for c in config:\n",
      "    print(c)\n",
      "    for v in config[c]:\n",
      "        print(v,\" \", config[c][v])"
     ],
     "language": "python",
     "prompt_number": 7
    },
    {
     "cell_type": "code",
     "metadata": {},
     "outputs": [],
     "input": [
      "dfssd"
     ],
     "language": "python"
    },
    {
     "cell_type": "code",
     "metadata": {},
     "outputs": [],
     "input": [
      ""
     ],
     "language": "python"
    },
    {
     "cell_type": "code",
     "metadata": {},
     "outputs": [],
     "input": [
      ""
     ],
     "language": "python"
    }
   ]
  }
 ],
 "cells": [],
 "metadata": {
  "name": "",
  "signature": "sha256:a22f0ee70f27a6943659a0d5a3a0b65b2d4d26f5a0199238339553051deac931"
 },
 "nbformat": 3,
 "nbformat_minor": 0
}